{
  "nbformat": 4,
  "nbformat_minor": 0,
  "metadata": {
    "colab": {
      "name": "web Scrapping of Flipkart.ipynb",
      "provenance": [],
      "collapsed_sections": [],
      "authorship_tag": "ABX9TyOUB5sLOfgVdkeQghjpK+4n",
      "include_colab_link": true
    },
    "kernelspec": {
      "display_name": "Python 3",
      "name": "python3"
    },
    "language_info": {
      "name": "python"
    }
  },
  "cells": [
    {
      "cell_type": "markdown",
      "metadata": {
        "id": "view-in-github",
        "colab_type": "text"
      },
      "source": [
        "<a href=\"https://colab.research.google.com/github/priyanka-261296/Web-Scrapping-of-Flipkart/blob/main/web_Scrapping_of_Flipkart.ipynb\" target=\"_parent\"><img src=\"https://colab.research.google.com/assets/colab-badge.svg\" alt=\"Open In Colab\"/></a>"
      ]
    },
    {
      "cell_type": "markdown",
      "metadata": {
        "id": "nwpqCRqHx6fY"
      },
      "source": [
        "***WEB SCRAPPING OF FLIPKART FOR LAPTOPS***"
      ]
    },
    {
      "cell_type": "markdown",
      "metadata": {
        "id": "nm1MsK5yXAfO"
      },
      "source": [
        "**Lets Import all the libraries**"
      ]
    },
    {
      "cell_type": "code",
      "metadata": {
        "id": "xzLoIeTXWt3q"
      },
      "source": [
        "import pandas as pd\n",
        "import urllib.request\n",
        "from bs4 import BeautifulSoup\n",
        "from urllib.request import urlopen"
      ],
      "execution_count": null,
      "outputs": []
    },
    {
      "cell_type": "markdown",
      "metadata": {
        "id": "i0XlZL21XkH0"
      },
      "source": [
        "***Input the URL to be scrapped***"
      ]
    },
    {
      "cell_type": "code",
      "metadata": {
        "colab": {
          "base_uri": "https://localhost:8080/",
          "height": 52
        },
        "id": "fr_aUGrTXCZW",
        "outputId": "11b4b489-b827-4ce0-bd5c-1bf0f2b5ca27"
      },
      "source": [
        "url = \"https://www.flipkart.com/search?q=best%20laptops%20under%2080000&otracker=search&otracker1=search&marketplace=FLIPKART&as-show=on&as=off\"\n",
        "url"
      ],
      "execution_count": null,
      "outputs": [
        {
          "output_type": "execute_result",
          "data": {
            "application/vnd.google.colaboratory.intrinsic+json": {
              "type": "string"
            },
            "text/plain": [
              "'https://www.flipkart.com/search?q=best%20laptops%20under%2080000&otracker=search&otracker1=search&marketplace=FLIPKART&as-show=on&as=off'"
            ]
          },
          "metadata": {
            "tags": []
          },
          "execution_count": 10
        }
      ]
    },
    {
      "cell_type": "markdown",
      "metadata": {
        "id": "jdVF9jPuYADX"
      },
      "source": [
        "***Use urlopen to open the url and read the details in i***t"
      ]
    },
    {
      "cell_type": "code",
      "metadata": {
        "id": "ob-khympX49X"
      },
      "source": [
        "page = urlopen(url)\n",
        "page_html = page.read()\n",
        "page.close()\n",
        "page_soup = BeautifulSoup(page_html, \"html.parser\")"
      ],
      "execution_count": null,
      "outputs": []
    },
    {
      "cell_type": "markdown",
      "metadata": {
        "id": "5Z-2IeFVYWBW"
      },
      "source": [
        "***Checking for all the containers available.***"
      ]
    },
    {
      "cell_type": "code",
      "metadata": {
        "colab": {
          "base_uri": "https://localhost:8080/"
        },
        "id": "XToV81c7YZI8",
        "outputId": "ae0d3057-b7ab-4632-c707-4a0d8fed089a"
      },
      "source": [
        "data_list=[]\n",
        "containers = page_soup.findAll(\"div\", { \"class\": \"_2kHMtA\"})\n",
        "print(len(containers))\n"
      ],
      "execution_count": null,
      "outputs": [
        {
          "output_type": "stream",
          "text": [
            "40\n"
          ],
          "name": "stdout"
        }
      ]
    },
    {
      "cell_type": "markdown",
      "metadata": {
        "id": "lpjypVSXYpav"
      },
      "source": [
        "***Using the BeautifulSoup, get all the parsed tree into a nicely formatted Unicode string, with a separate line for each tag and each string***."
      ]
    },
    {
      "cell_type": "code",
      "metadata": {
        "colab": {
          "base_uri": "https://localhost:8080/"
        },
        "id": "Z4pU31EdYtRX",
        "outputId": "f93ae5f5-ed04-485c-b82d-745a2ce81ec9"
      },
      "source": [
        "print(BeautifulSoup.prettify(containers[3]))"
      ],
      "execution_count": null,
      "outputs": [
        {
          "output_type": "stream",
          "text": [
            "<div class=\"_2kHMtA\">\n",
            " <div class=\"_2tfzpE\">\n",
            "  <span>\n",
            "   Ad\n",
            "  </span>\n",
            " </div>\n",
            " <a class=\"_1fQZEK\" href=\"/hp-envy-x360-ryzen-5-hexa-core-4500u-8-gb-256-gb-ssd-windows-10-home-13-ay0044au-2-1-laptop/p/itmac0182a1adc96?pid=COMFSFNWEYZQ3HHH&amp;lid=LSTCOMFSFNWEYZQ3HHHKBHYBX&amp;marketplace=FLIPKART&amp;q=best+laptops+under+80000&amp;store=search.flipkart.com&amp;srno=s_1_4&amp;otracker=search&amp;otracker1=search&amp;fm=organic&amp;iid=en_LhyDqnzYCRJmvns2GXQQwE%2FdDYXjNXllhc0Z81eqRddgoP%2BFE0rKrq8STskhmVvNfq0vY%2BpPqjIbNrHlu8WMJw%3D%3D&amp;ppt=None&amp;ppn=None&amp;ssid=xr2tdh7gz40000001620830754017&amp;qH=cdff68aec3053e4d\" rel=\"noopener noreferrer\" target=\"_blank\">\n",
            "  <div class=\"MIXNux\">\n",
            "   <div class=\"_2QcLo-\">\n",
            "    <div>\n",
            "     <div class=\"CXW8mj\" style=\"height:200px;width:200px\">\n",
            "      <img alt=\"HP Envy x360 Ryzen 5 Hexa Core 4500U - (8 GB/256 GB SSD/Windows 10 Home) 13-ay0044AU 2 in 1 Laptop\" class=\"_396cs4 _3exPp9\" src=\"https://rukminim1.flixcart.com/image/312/312/kkmwr680/computer/9/t/h/na-2-in-1-laptop-hp-original-imafzxshhcgtgrzw.jpeg?q=70\"/>\n",
            "     </div>\n",
            "    </div>\n",
            "   </div>\n",
            "   <div class=\"_3wLduG\">\n",
            "    <div class=\"_3PzNI-\">\n",
            "     <span class=\"f3A4_V\">\n",
            "      <label class=\"_2iDkf8\">\n",
            "       <input class=\"_30VH1S\" readonly=\"\" type=\"checkbox\"/>\n",
            "       <div class=\"_24_Dny\">\n",
            "       </div>\n",
            "      </label>\n",
            "     </span>\n",
            "     <label class=\"_6Up2sF\">\n",
            "      <span>\n",
            "       Add to Compare\n",
            "      </span>\n",
            "     </label>\n",
            "    </div>\n",
            "   </div>\n",
            "   <div class=\"_2hVSre _3nq8ih\">\n",
            "    <div class=\"_36FSn5\">\n",
            "     <svg class=\"_1l0elc\" height=\"16\" viewbox=\"0 0 20 16\" width=\"16\" xmlns=\"http://www.w3.org/2000/svg\">\n",
            "      <path class=\"eX72wL\" d=\"M8.695 16.682C4.06 12.382 1 9.536 1 6.065 1 3.219 3.178 1 5.95 1c1.566 0 3.069.746 4.05 1.915C10.981 1.745 12.484 1 14.05 1 16.822 1 19 3.22 19 6.065c0 3.471-3.06 6.316-7.695 10.617L10 17.897l-1.305-1.215z\" fill=\"#2874F0\" fill-rule=\"evenodd\" opacity=\".9\" stroke=\"#FFF\">\n",
            "      </path>\n",
            "     </svg>\n",
            "    </div>\n",
            "   </div>\n",
            "  </div>\n",
            "  <div class=\"_3pLy-c row\">\n",
            "   <div class=\"col col-7-12\">\n",
            "    <div class=\"_4rR01T\">\n",
            "     HP Envy x360 Ryzen 5 Hexa Core 4500U - (8 GB/256 GB SSD/Windows 10 Home) 13-ay0044AU 2 in 1 Laptop\n",
            "    </div>\n",
            "    <div class=\"gUuXy-\">\n",
            "     <span class=\"_1lRcqv\" id=\"productRating_LSTCOMFSFNWEYZQ3HHHKBHYBX_COMFSFNWEYZQ3HHH_\">\n",
            "      <div class=\"_3LWZlK\">\n",
            "       4.5\n",
            "       <img class=\"_1wB99o\" src=\"data:image/svg+xml;base64,PHN2ZyB4bWxucz0iaHR0cDovL3d3dy53My5vcmcvMjAwMC9zdmciIHdpZHRoPSIxMyIgaGVpZ2h0PSIxMiI+PHBhdGggZmlsbD0iI0ZGRiIgZD0iTTYuNSA5LjQzOWwtMy42NzQgMi4yMy45NC00LjI2LTMuMjEtMi44ODMgNC4yNTQtLjQwNEw2LjUuMTEybDEuNjkgNC4wMSA0LjI1NC40MDQtMy4yMSAyLjg4Mi45NCA0LjI2eiIvPjwvc3ZnPg==\"/>\n",
            "      </div>\n",
            "     </span>\n",
            "     <span class=\"_2_R_DZ\">\n",
            "      <span>\n",
            "       <span>\n",
            "        181 Ratings\n",
            "       </span>\n",
            "       <span class=\"_13vcmD\">\n",
            "        &amp;\n",
            "       </span>\n",
            "       <span>\n",
            "        32 Reviews\n",
            "       </span>\n",
            "      </span>\n",
            "     </span>\n",
            "    </div>\n",
            "    <div class=\"fMghEO\">\n",
            "     <ul class=\"_1xgFaf\">\n",
            "      <li class=\"rgWa7D\">\n",
            "       AMD Ryzen 5 Hexa Core Processor\n",
            "      </li>\n",
            "      <li class=\"rgWa7D\">\n",
            "       8 GB DDR4 RAM\n",
            "      </li>\n",
            "      <li class=\"rgWa7D\">\n",
            "       64 bit Windows 10 Operating System\n",
            "      </li>\n",
            "      <li class=\"rgWa7D\">\n",
            "       256 GB SSD\n",
            "      </li>\n",
            "      <li class=\"rgWa7D\">\n",
            "       33.78 cm (13.3 inch) Touchscreen Display\n",
            "      </li>\n",
            "      <li class=\"rgWa7D\">\n",
            "       Microsoft Office Home and Student 2019\n",
            "      </li>\n",
            "      <li class=\"rgWa7D\">\n",
            "       1 Year Onsite Warranty\n",
            "      </li>\n",
            "     </ul>\n",
            "    </div>\n",
            "   </div>\n",
            "   <div class=\"col col-5-12 nlI3QM\">\n",
            "    <div class=\"_3tbKJL\">\n",
            "     <div class=\"_25b18c\">\n",
            "      <div class=\"_30jeq3 _1_WHN1\">\n",
            "       ₹64,990\n",
            "      </div>\n",
            "      <div class=\"_3I9_wc _27UcVY\">\n",
            "       ₹\n",
            "       <!-- -->\n",
            "       85,736\n",
            "      </div>\n",
            "      <div class=\"_3Ay6Sb\">\n",
            "       <span>\n",
            "        24% off\n",
            "       </span>\n",
            "      </div>\n",
            "     </div>\n",
            "     <div class=\"_3tcB5a p8ucoS\">\n",
            "      <div>\n",
            "       <div class=\"_2Tpdn3\" style=\"color:#000000;font-size:14px;font-style:normal;font-weight:400\">\n",
            "        Or Pay ₹64,890 +\n",
            "       </div>\n",
            "       <div class=\"CXW8mj _1lT03L\" style=\"height:12px;width:12px\">\n",
            "        <img alt=\"\" class=\"_396cs4\" src=\"//static-assets-web.flixcart.com/www/linchpin/fk-cp-zion/img/placeholder_fcebae.svg\"/>\n",
            "       </div>\n",
            "       <div class=\"_2Tpdn3\" style=\"color:#000000;font-size:14px;font-style:normal;font-weight:400\">\n",
            "        100\n",
            "       </div>\n",
            "      </div>\n",
            "     </div>\n",
            "    </div>\n",
            "    <div class=\"_13J9qT\">\n",
            "     <img height=\"21\" src=\"//static-assets-web.flixcart.com/www/linchpin/fk-cp-zion/img/fa_62673a.png\"/>\n",
            "    </div>\n",
            "   </div>\n",
            "  </div>\n",
            " </a>\n",
            "</div>\n"
          ],
          "name": "stdout"
        }
      ]
    },
    {
      "cell_type": "markdown",
      "metadata": {
        "id": "xuUP2FUwY9Iq"
      },
      "source": [
        "***Get the Name of the produt:***"
      ]
    },
    {
      "cell_type": "code",
      "metadata": {
        "colab": {
          "base_uri": "https://localhost:8080/"
        },
        "id": "sb2GfyxiY9w3",
        "outputId": "ea47dc8e-ac01-423b-d112-8353b66c8437"
      },
      "source": [
        "container = containers[4]\n",
        "prod_name = container.div.img[\"alt\"]\n",
        "print(prod_name)"
      ],
      "execution_count": null,
      "outputs": [
        {
          "output_type": "stream",
          "text": [
            "DELL G3 Core i7 10th Gen - (8 GB/512 GB SSD/Windows 10 Home/4 GB Graphics/NVIDIA GeForce GTX 1650/120 ...\n"
          ],
          "name": "stdout"
        }
      ]
    },
    {
      "cell_type": "markdown",
      "metadata": {
        "id": "cuPUhUl1ZZk3"
      },
      "source": [
        "***Get the Original Price of the product:***"
      ]
    },
    {
      "cell_type": "code",
      "metadata": {
        "colab": {
          "base_uri": "https://localhost:8080/"
        },
        "id": "BVGZQc6sZe6v",
        "outputId": "cca7512c-3aff-468e-a511-e4e45aa1d46b"
      },
      "source": [
        "original_price = container.findAll(\"div\", {\"class\": \"_3I9_wc _27UcVY\"})\n",
        "print(original_price[0].text)"
      ],
      "execution_count": null,
      "outputs": [
        {
          "output_type": "stream",
          "text": [
            "₹93,971\n"
          ],
          "name": "stdout"
        }
      ]
    },
    {
      "cell_type": "markdown",
      "metadata": {
        "id": "eszV6LIFZu0P"
      },
      "source": [
        "***Get the Discount Percentage on the product***"
      ]
    },
    {
      "cell_type": "code",
      "metadata": {
        "colab": {
          "base_uri": "https://localhost:8080/"
        },
        "id": "1D1faO9wZyD7",
        "outputId": "3d9c053e-b61d-49f9-be43-8aeecd52b6bb"
      },
      "source": [
        "discount_percent = container.findAll(\"div\", {\"class\": \"_3Ay6Sb\"})\n",
        "print(discount_percent[0].text)"
      ],
      "execution_count": null,
      "outputs": [
        {
          "output_type": "stream",
          "text": [
            "17% off\n"
          ],
          "name": "stdout"
        }
      ]
    },
    {
      "cell_type": "markdown",
      "metadata": {
        "id": "Y7Kw6KpOZ-vi"
      },
      "source": [
        "***Get the Discounted Price of the product***"
      ]
    },
    {
      "cell_type": "code",
      "metadata": {
        "colab": {
          "base_uri": "https://localhost:8080/"
        },
        "id": "Nbgq5YQdaB_l",
        "outputId": "62ee05bb-1cfc-4b92-871a-ecf13d50da69"
      },
      "source": [
        "discounted_price = container.findAll(\"div\", {\"class\": \"_30jeq3 _1_WHN1\"})\n",
        "print(discounted_price[0].text)"
      ],
      "execution_count": null,
      "outputs": [
        {
          "output_type": "stream",
          "text": [
            "₹77,990\n"
          ],
          "name": "stdout"
        }
      ]
    },
    {
      "cell_type": "markdown",
      "metadata": {
        "id": "l4fISym_aanx"
      },
      "source": [
        "***Get the Product Ratings:***"
      ]
    },
    {
      "cell_type": "code",
      "metadata": {
        "colab": {
          "base_uri": "https://localhost:8080/"
        },
        "id": "EZXH7jCdadVk",
        "outputId": "c49a6e1e-8e69-48b7-bda7-12c255e6ea4e"
      },
      "source": [
        "prod_ratings = container.findAll(\"span\", {\"class\": \"_1lRcqv\"})\n",
        "print(prod_ratings[0].text)"
      ],
      "execution_count": null,
      "outputs": [
        {
          "output_type": "stream",
          "text": [
            "4.4\n"
          ],
          "name": "stdout"
        }
      ]
    },
    {
      "cell_type": "markdown",
      "metadata": {
        "id": "rh028I0DaqUO"
      },
      "source": [
        "***Get the Number of Product Reviews:***"
      ]
    },
    {
      "cell_type": "code",
      "metadata": {
        "colab": {
          "base_uri": "https://localhost:8080/"
        },
        "id": "om51pd7xatU2",
        "outputId": "efa0a732-3b0a-407b-e5a9-2390acfdd883"
      },
      "source": [
        "reviews = container.findAll(\"span\", {\"class\" : \"_2_R_DZ\"})\n",
        "print(reviews[0].text)"
      ],
      "execution_count": null,
      "outputs": [
        {
          "output_type": "stream",
          "text": [
            "62 Ratings & 8 Reviews\n"
          ],
          "name": "stdout"
        }
      ]
    },
    {
      "cell_type": "markdown",
      "metadata": {
        "id": "TL7Y8Cwca7Lv"
      },
      "source": [
        "***Make a csv file and then edit in it the details:***\n",
        "***Getting the Detailes in Summary Form*** "
      ]
    },
    {
      "cell_type": "code",
      "metadata": {
        "colab": {
          "base_uri": "https://localhost:8080/",
          "height": 306
        },
        "id": "WxT-v8kba7hY",
        "outputId": "c77e7283-1aff-411f-8b24-45e0eba65f6b"
      },
      "source": [
        "data_list=[]\n",
        "for container in containers[:5]:\n",
        "    temp_dict={}\n",
        "    product_name = container.findAll(\"div\", {\"class\": \"_4rR01T\"})    \n",
        "    temp_dict['prod_name'] = product_name[0].text.strip()\n",
        "    \n",
        "    original_price = container.findAll(\"div\", {\"class\": \"_3I9_wc _27UcVY\"})\n",
        "    temp_dict['original'] = original_price[0].text.strip()\n",
        "    \n",
        "    discount_percent = container.findAll(\"div\", {\"class\": \"_3Ay6Sb\"})\n",
        "    temp_dict['percent'] = discount_percent[0].text.strip()\n",
        "    \n",
        "    discounted_price = container.findAll(\"div\", {\"class\": \"_30jeq3 _1_WHN1\"})\n",
        "    temp_dict['discount'] = discounted_price[0].text.strip()\n",
        "\n",
        "    rating_container = container.findAll(\"span\", {\"class\": \"_1lRcqv\"})\n",
        "    temp_dict['prod_rating'] = rating_container[0].text.strip()\n",
        "    \n",
        "    reviews_container = container.findAll(\"span\", {\"class\": \"_2_R_DZ\"})\n",
        "    temp_dict['reviews_rating'] = reviews_container[0].text\n",
        "    data_list.append( temp_dict)\n",
        "container_list=pd.DataFrame(data_list)\n",
        "container_list       "
      ],
      "execution_count": null,
      "outputs": [
        {
          "output_type": "execute_result",
          "data": {
            "text/html": [
              "<div>\n",
              "<style scoped>\n",
              "    .dataframe tbody tr th:only-of-type {\n",
              "        vertical-align: middle;\n",
              "    }\n",
              "\n",
              "    .dataframe tbody tr th {\n",
              "        vertical-align: top;\n",
              "    }\n",
              "\n",
              "    .dataframe thead th {\n",
              "        text-align: right;\n",
              "    }\n",
              "</style>\n",
              "<table border=\"1\" class=\"dataframe\">\n",
              "  <thead>\n",
              "    <tr style=\"text-align: right;\">\n",
              "      <th></th>\n",
              "      <th>prod_name</th>\n",
              "      <th>original</th>\n",
              "      <th>percent</th>\n",
              "      <th>discount</th>\n",
              "      <th>prod_rating</th>\n",
              "      <th>reviews_rating</th>\n",
              "    </tr>\n",
              "  </thead>\n",
              "  <tbody>\n",
              "    <tr>\n",
              "      <th>0</th>\n",
              "      <td>Lenovo IdeaPad Gaming 3i Core i7 10th Gen - (8...</td>\n",
              "      <td>₹1,15,390</td>\n",
              "      <td>32% off</td>\n",
              "      <td>₹77,990</td>\n",
              "      <td>4.3</td>\n",
              "      <td>635 Ratings &amp; 107 Reviews</td>\n",
              "    </tr>\n",
              "    <tr>\n",
              "      <th>1</th>\n",
              "      <td>ASUS ZenBook Duo Core i5 10th Gen - (8 GB/512 ...</td>\n",
              "      <td>₹1,08,990</td>\n",
              "      <td>26% off</td>\n",
              "      <td>₹79,890</td>\n",
              "      <td>4.2</td>\n",
              "      <td>44 Ratings &amp; 6 Reviews</td>\n",
              "    </tr>\n",
              "    <tr>\n",
              "      <th>2</th>\n",
              "      <td>MICROSOFT Surface Pro 7 Core i5 10th Gen - (8 ...</td>\n",
              "      <td>₹93,999</td>\n",
              "      <td>15% off</td>\n",
              "      <td>₹78,990</td>\n",
              "      <td>4.3</td>\n",
              "      <td>61 Ratings &amp; 5 Reviews</td>\n",
              "    </tr>\n",
              "    <tr>\n",
              "      <th>3</th>\n",
              "      <td>HP Envy x360 Ryzen 5 Hexa Core 4500U - (8 GB/2...</td>\n",
              "      <td>₹85,736</td>\n",
              "      <td>24% off</td>\n",
              "      <td>₹64,990</td>\n",
              "      <td>4.5</td>\n",
              "      <td>181 Ratings &amp; 32 Reviews</td>\n",
              "    </tr>\n",
              "    <tr>\n",
              "      <th>4</th>\n",
              "      <td>DELL G3 Core i7 10th Gen - (8 GB/512 GB SSD/Wi...</td>\n",
              "      <td>₹93,971</td>\n",
              "      <td>17% off</td>\n",
              "      <td>₹77,990</td>\n",
              "      <td>4.4</td>\n",
              "      <td>62 Ratings &amp; 8 Reviews</td>\n",
              "    </tr>\n",
              "  </tbody>\n",
              "</table>\n",
              "</div>"
            ],
            "text/plain": [
              "                                           prod_name  ...             reviews_rating\n",
              "0  Lenovo IdeaPad Gaming 3i Core i7 10th Gen - (8...  ...  635 Ratings & 107 Reviews\n",
              "1  ASUS ZenBook Duo Core i5 10th Gen - (8 GB/512 ...  ...     44 Ratings & 6 Reviews\n",
              "2  MICROSOFT Surface Pro 7 Core i5 10th Gen - (8 ...  ...     61 Ratings & 5 Reviews\n",
              "3  HP Envy x360 Ryzen 5 Hexa Core 4500U - (8 GB/2...  ...   181 Ratings & 32 Reviews\n",
              "4  DELL G3 Core i7 10th Gen - (8 GB/512 GB SSD/Wi...  ...     62 Ratings & 8 Reviews\n",
              "\n",
              "[5 rows x 6 columns]"
            ]
          },
          "metadata": {
            "tags": []
          },
          "execution_count": 20
        }
      ]
    },
    {
      "cell_type": "code",
      "metadata": {
        "id": "OAykFe16oRrz"
      },
      "source": [
        "      import csv\n",
        "      with open('product.csv','w',newline='')as file:\n",
        "        writer=csv.writer(file)"
      ],
      "execution_count": null,
      "outputs": []
    },
    {
      "cell_type": "code",
      "metadata": {
        "id": "xQhtFbXcDVIx"
      },
      "source": [
        "container_list.to_csv('product.csv')"
      ],
      "execution_count": null,
      "outputs": []
    },
    {
      "cell_type": "code",
      "metadata": {
        "colab": {
          "base_uri": "https://localhost:8080/",
          "height": 459
        },
        "id": "YbjYFIaiDm64",
        "outputId": "b95ed660-ddf2-4929-e9e7-e16a7f13e811"
      },
      "source": [
        "df=pd.read_csv('product.csv')\n",
        "df"
      ],
      "execution_count": null,
      "outputs": [
        {
          "output_type": "execute_result",
          "data": {
            "text/html": [
              "<div>\n",
              "<style scoped>\n",
              "    .dataframe tbody tr th:only-of-type {\n",
              "        vertical-align: middle;\n",
              "    }\n",
              "\n",
              "    .dataframe tbody tr th {\n",
              "        vertical-align: top;\n",
              "    }\n",
              "\n",
              "    .dataframe thead th {\n",
              "        text-align: right;\n",
              "    }\n",
              "</style>\n",
              "<table border=\"1\" class=\"dataframe\">\n",
              "  <thead>\n",
              "    <tr style=\"text-align: right;\">\n",
              "      <th></th>\n",
              "      <th>Unnamed: 0</th>\n",
              "      <th>prod_name</th>\n",
              "      <th>original</th>\n",
              "      <th>percent</th>\n",
              "      <th>discount</th>\n",
              "      <th>prod_rating</th>\n",
              "      <th>reviews_rating</th>\n",
              "    </tr>\n",
              "  </thead>\n",
              "  <tbody>\n",
              "    <tr>\n",
              "      <th>0</th>\n",
              "      <td>0</td>\n",
              "      <td>Lenovo IdeaPad Gaming 3i Core i7 10th Gen - (8...</td>\n",
              "      <td>₹1,15,390</td>\n",
              "      <td>32% off</td>\n",
              "      <td>₹77,990</td>\n",
              "      <td>4.3</td>\n",
              "      <td>635 Ratings &amp; 107 Reviews</td>\n",
              "    </tr>\n",
              "    <tr>\n",
              "      <th>1</th>\n",
              "      <td>1</td>\n",
              "      <td>ASUS ZenBook Duo Core i5 10th Gen - (8 GB/512 ...</td>\n",
              "      <td>₹1,08,990</td>\n",
              "      <td>26% off</td>\n",
              "      <td>₹79,890</td>\n",
              "      <td>4.2</td>\n",
              "      <td>44 Ratings &amp; 6 Reviews</td>\n",
              "    </tr>\n",
              "    <tr>\n",
              "      <th>2</th>\n",
              "      <td>2</td>\n",
              "      <td>MICROSOFT Surface Pro 7 Core i5 10th Gen - (8 ...</td>\n",
              "      <td>₹93,999</td>\n",
              "      <td>15% off</td>\n",
              "      <td>₹78,990</td>\n",
              "      <td>4.3</td>\n",
              "      <td>61 Ratings &amp; 5 Reviews</td>\n",
              "    </tr>\n",
              "    <tr>\n",
              "      <th>3</th>\n",
              "      <td>3</td>\n",
              "      <td>HP Envy x360 Ryzen 5 Hexa Core 4500U - (8 GB/2...</td>\n",
              "      <td>₹85,736</td>\n",
              "      <td>24% off</td>\n",
              "      <td>₹64,990</td>\n",
              "      <td>4.5</td>\n",
              "      <td>181 Ratings &amp; 32 Reviews</td>\n",
              "    </tr>\n",
              "    <tr>\n",
              "      <th>4</th>\n",
              "      <td>4</td>\n",
              "      <td>DELL G3 Core i7 10th Gen - (8 GB/512 GB SSD/Wi...</td>\n",
              "      <td>₹93,971</td>\n",
              "      <td>17% off</td>\n",
              "      <td>₹77,990</td>\n",
              "      <td>4.4</td>\n",
              "      <td>62 Ratings &amp; 8 Reviews</td>\n",
              "    </tr>\n",
              "  </tbody>\n",
              "</table>\n",
              "</div>"
            ],
            "text/plain": [
              "   Unnamed: 0  ...             reviews_rating\n",
              "0           0  ...  635 Ratings & 107 Reviews\n",
              "1           1  ...     44 Ratings & 6 Reviews\n",
              "2           2  ...     61 Ratings & 5 Reviews\n",
              "3           3  ...   181 Ratings & 32 Reviews\n",
              "4           4  ...     62 Ratings & 8 Reviews\n",
              "\n",
              "[5 rows x 7 columns]"
            ]
          },
          "metadata": {
            "tags": []
          },
          "execution_count": 26
        }
      ]
    },
    {
      "cell_type": "code",
      "metadata": {
        "id": "KQwygeKsdsXp",
        "colab": {
          "base_uri": "https://localhost:8080/",
          "height": 459
        },
        "outputId": "fc53612b-785b-428b-9bda-934dfbb66230"
      },
      "source": [
        "df.head()"
      ],
      "execution_count": null,
      "outputs": [
        {
          "output_type": "execute_result",
          "data": {
            "text/html": [
              "<div>\n",
              "<style scoped>\n",
              "    .dataframe tbody tr th:only-of-type {\n",
              "        vertical-align: middle;\n",
              "    }\n",
              "\n",
              "    .dataframe tbody tr th {\n",
              "        vertical-align: top;\n",
              "    }\n",
              "\n",
              "    .dataframe thead th {\n",
              "        text-align: right;\n",
              "    }\n",
              "</style>\n",
              "<table border=\"1\" class=\"dataframe\">\n",
              "  <thead>\n",
              "    <tr style=\"text-align: right;\">\n",
              "      <th></th>\n",
              "      <th>Unnamed: 0</th>\n",
              "      <th>prod_name</th>\n",
              "      <th>original</th>\n",
              "      <th>percent</th>\n",
              "      <th>discount</th>\n",
              "      <th>prod_rating</th>\n",
              "      <th>reviews_rating</th>\n",
              "    </tr>\n",
              "  </thead>\n",
              "  <tbody>\n",
              "    <tr>\n",
              "      <th>0</th>\n",
              "      <td>0</td>\n",
              "      <td>Lenovo IdeaPad Gaming 3i Core i7 10th Gen - (8...</td>\n",
              "      <td>₹1,15,390</td>\n",
              "      <td>32% off</td>\n",
              "      <td>₹77,990</td>\n",
              "      <td>4.3</td>\n",
              "      <td>635 Ratings &amp; 107 Reviews</td>\n",
              "    </tr>\n",
              "    <tr>\n",
              "      <th>1</th>\n",
              "      <td>1</td>\n",
              "      <td>ASUS ZenBook Duo Core i5 10th Gen - (8 GB/512 ...</td>\n",
              "      <td>₹1,08,990</td>\n",
              "      <td>26% off</td>\n",
              "      <td>₹79,890</td>\n",
              "      <td>4.2</td>\n",
              "      <td>44 Ratings &amp; 6 Reviews</td>\n",
              "    </tr>\n",
              "    <tr>\n",
              "      <th>2</th>\n",
              "      <td>2</td>\n",
              "      <td>MICROSOFT Surface Pro 7 Core i5 10th Gen - (8 ...</td>\n",
              "      <td>₹93,999</td>\n",
              "      <td>15% off</td>\n",
              "      <td>₹78,990</td>\n",
              "      <td>4.3</td>\n",
              "      <td>61 Ratings &amp; 5 Reviews</td>\n",
              "    </tr>\n",
              "    <tr>\n",
              "      <th>3</th>\n",
              "      <td>3</td>\n",
              "      <td>HP Envy x360 Ryzen 5 Hexa Core 4500U - (8 GB/2...</td>\n",
              "      <td>₹85,736</td>\n",
              "      <td>24% off</td>\n",
              "      <td>₹64,990</td>\n",
              "      <td>4.5</td>\n",
              "      <td>181 Ratings &amp; 32 Reviews</td>\n",
              "    </tr>\n",
              "    <tr>\n",
              "      <th>4</th>\n",
              "      <td>4</td>\n",
              "      <td>DELL G3 Core i7 10th Gen - (8 GB/512 GB SSD/Wi...</td>\n",
              "      <td>₹93,971</td>\n",
              "      <td>17% off</td>\n",
              "      <td>₹77,990</td>\n",
              "      <td>4.4</td>\n",
              "      <td>62 Ratings &amp; 8 Reviews</td>\n",
              "    </tr>\n",
              "  </tbody>\n",
              "</table>\n",
              "</div>"
            ],
            "text/plain": [
              "   Unnamed: 0  ...             reviews_rating\n",
              "0           0  ...  635 Ratings & 107 Reviews\n",
              "1           1  ...     44 Ratings & 6 Reviews\n",
              "2           2  ...     61 Ratings & 5 Reviews\n",
              "3           3  ...   181 Ratings & 32 Reviews\n",
              "4           4  ...     62 Ratings & 8 Reviews\n",
              "\n",
              "[5 rows x 7 columns]"
            ]
          },
          "metadata": {
            "tags": []
          },
          "execution_count": 27
        }
      ]
    },
    {
      "cell_type": "code",
      "metadata": {
        "colab": {
          "base_uri": "https://localhost:8080/",
          "height": 459
        },
        "id": "3h9Y52hDdsvB",
        "outputId": "4c6e3c4d-58fc-488d-866c-cdda8941b847"
      },
      "source": [
        "df.tail()"
      ],
      "execution_count": null,
      "outputs": [
        {
          "output_type": "execute_result",
          "data": {
            "text/html": [
              "<div>\n",
              "<style scoped>\n",
              "    .dataframe tbody tr th:only-of-type {\n",
              "        vertical-align: middle;\n",
              "    }\n",
              "\n",
              "    .dataframe tbody tr th {\n",
              "        vertical-align: top;\n",
              "    }\n",
              "\n",
              "    .dataframe thead th {\n",
              "        text-align: right;\n",
              "    }\n",
              "</style>\n",
              "<table border=\"1\" class=\"dataframe\">\n",
              "  <thead>\n",
              "    <tr style=\"text-align: right;\">\n",
              "      <th></th>\n",
              "      <th>Unnamed: 0</th>\n",
              "      <th>prod_name</th>\n",
              "      <th>original</th>\n",
              "      <th>percent</th>\n",
              "      <th>discount</th>\n",
              "      <th>prod_rating</th>\n",
              "      <th>reviews_rating</th>\n",
              "    </tr>\n",
              "  </thead>\n",
              "  <tbody>\n",
              "    <tr>\n",
              "      <th>0</th>\n",
              "      <td>0</td>\n",
              "      <td>Lenovo IdeaPad Gaming 3i Core i7 10th Gen - (8...</td>\n",
              "      <td>₹1,15,390</td>\n",
              "      <td>32% off</td>\n",
              "      <td>₹77,990</td>\n",
              "      <td>4.3</td>\n",
              "      <td>635 Ratings &amp; 107 Reviews</td>\n",
              "    </tr>\n",
              "    <tr>\n",
              "      <th>1</th>\n",
              "      <td>1</td>\n",
              "      <td>ASUS ZenBook Duo Core i5 10th Gen - (8 GB/512 ...</td>\n",
              "      <td>₹1,08,990</td>\n",
              "      <td>26% off</td>\n",
              "      <td>₹79,890</td>\n",
              "      <td>4.2</td>\n",
              "      <td>44 Ratings &amp; 6 Reviews</td>\n",
              "    </tr>\n",
              "    <tr>\n",
              "      <th>2</th>\n",
              "      <td>2</td>\n",
              "      <td>MICROSOFT Surface Pro 7 Core i5 10th Gen - (8 ...</td>\n",
              "      <td>₹93,999</td>\n",
              "      <td>15% off</td>\n",
              "      <td>₹78,990</td>\n",
              "      <td>4.3</td>\n",
              "      <td>61 Ratings &amp; 5 Reviews</td>\n",
              "    </tr>\n",
              "    <tr>\n",
              "      <th>3</th>\n",
              "      <td>3</td>\n",
              "      <td>HP Envy x360 Ryzen 5 Hexa Core 4500U - (8 GB/2...</td>\n",
              "      <td>₹85,736</td>\n",
              "      <td>24% off</td>\n",
              "      <td>₹64,990</td>\n",
              "      <td>4.5</td>\n",
              "      <td>181 Ratings &amp; 32 Reviews</td>\n",
              "    </tr>\n",
              "    <tr>\n",
              "      <th>4</th>\n",
              "      <td>4</td>\n",
              "      <td>DELL G3 Core i7 10th Gen - (8 GB/512 GB SSD/Wi...</td>\n",
              "      <td>₹93,971</td>\n",
              "      <td>17% off</td>\n",
              "      <td>₹77,990</td>\n",
              "      <td>4.4</td>\n",
              "      <td>62 Ratings &amp; 8 Reviews</td>\n",
              "    </tr>\n",
              "  </tbody>\n",
              "</table>\n",
              "</div>"
            ],
            "text/plain": [
              "   Unnamed: 0  ...             reviews_rating\n",
              "0           0  ...  635 Ratings & 107 Reviews\n",
              "1           1  ...     44 Ratings & 6 Reviews\n",
              "2           2  ...     61 Ratings & 5 Reviews\n",
              "3           3  ...   181 Ratings & 32 Reviews\n",
              "4           4  ...     62 Ratings & 8 Reviews\n",
              "\n",
              "[5 rows x 7 columns]"
            ]
          },
          "metadata": {
            "tags": []
          },
          "execution_count": 28
        }
      ]
    },
    {
      "cell_type": "code",
      "metadata": {
        "colab": {
          "base_uri": "https://localhost:8080/",
          "height": 297
        },
        "id": "1K4u5wkads6j",
        "outputId": "29c89707-f54d-4594-8a04-8d009886923c"
      },
      "source": [
        "df.describe()"
      ],
      "execution_count": null,
      "outputs": [
        {
          "output_type": "execute_result",
          "data": {
            "text/html": [
              "<div>\n",
              "<style scoped>\n",
              "    .dataframe tbody tr th:only-of-type {\n",
              "        vertical-align: middle;\n",
              "    }\n",
              "\n",
              "    .dataframe tbody tr th {\n",
              "        vertical-align: top;\n",
              "    }\n",
              "\n",
              "    .dataframe thead th {\n",
              "        text-align: right;\n",
              "    }\n",
              "</style>\n",
              "<table border=\"1\" class=\"dataframe\">\n",
              "  <thead>\n",
              "    <tr style=\"text-align: right;\">\n",
              "      <th></th>\n",
              "      <th>Unnamed: 0</th>\n",
              "      <th>prod_rating</th>\n",
              "    </tr>\n",
              "  </thead>\n",
              "  <tbody>\n",
              "    <tr>\n",
              "      <th>count</th>\n",
              "      <td>5.000000</td>\n",
              "      <td>5.000000</td>\n",
              "    </tr>\n",
              "    <tr>\n",
              "      <th>mean</th>\n",
              "      <td>2.000000</td>\n",
              "      <td>4.340000</td>\n",
              "    </tr>\n",
              "    <tr>\n",
              "      <th>std</th>\n",
              "      <td>1.581139</td>\n",
              "      <td>0.114018</td>\n",
              "    </tr>\n",
              "    <tr>\n",
              "      <th>min</th>\n",
              "      <td>0.000000</td>\n",
              "      <td>4.200000</td>\n",
              "    </tr>\n",
              "    <tr>\n",
              "      <th>25%</th>\n",
              "      <td>1.000000</td>\n",
              "      <td>4.300000</td>\n",
              "    </tr>\n",
              "    <tr>\n",
              "      <th>50%</th>\n",
              "      <td>2.000000</td>\n",
              "      <td>4.300000</td>\n",
              "    </tr>\n",
              "    <tr>\n",
              "      <th>75%</th>\n",
              "      <td>3.000000</td>\n",
              "      <td>4.400000</td>\n",
              "    </tr>\n",
              "    <tr>\n",
              "      <th>max</th>\n",
              "      <td>4.000000</td>\n",
              "      <td>4.500000</td>\n",
              "    </tr>\n",
              "  </tbody>\n",
              "</table>\n",
              "</div>"
            ],
            "text/plain": [
              "       Unnamed: 0  prod_rating\n",
              "count    5.000000     5.000000\n",
              "mean     2.000000     4.340000\n",
              "std      1.581139     0.114018\n",
              "min      0.000000     4.200000\n",
              "25%      1.000000     4.300000\n",
              "50%      2.000000     4.300000\n",
              "75%      3.000000     4.400000\n",
              "max      4.000000     4.500000"
            ]
          },
          "metadata": {
            "tags": []
          },
          "execution_count": 29
        }
      ]
    },
    {
      "cell_type": "code",
      "metadata": {
        "colab": {
          "base_uri": "https://localhost:8080/"
        },
        "id": "GEfxJ0x_eAP0",
        "outputId": "89478bf7-abda-47d5-ba6f-288588e94a3d"
      },
      "source": [
        "df.isnull().sum()"
      ],
      "execution_count": null,
      "outputs": [
        {
          "output_type": "execute_result",
          "data": {
            "text/plain": [
              "Unnamed: 0        0\n",
              "prod_name         0\n",
              "original          0\n",
              "percent           0\n",
              "discount          0\n",
              "prod_rating       0\n",
              "reviews_rating    0\n",
              "dtype: int64"
            ]
          },
          "metadata": {
            "tags": []
          },
          "execution_count": 30
        }
      ]
    },
    {
      "cell_type": "code",
      "metadata": {
        "colab": {
          "base_uri": "https://localhost:8080/"
        },
        "id": "38d8xgAxeGNk",
        "outputId": "5db6be0b-bb20-453f-dfef-c20b8bd57caf"
      },
      "source": [
        "df.shape"
      ],
      "execution_count": null,
      "outputs": [
        {
          "output_type": "execute_result",
          "data": {
            "text/plain": [
              "(5, 7)"
            ]
          },
          "metadata": {
            "tags": []
          },
          "execution_count": 31
        }
      ]
    },
    {
      "cell_type": "code",
      "metadata": {
        "colab": {
          "base_uri": "https://localhost:8080/"
        },
        "id": "Q78cGt9weRuO",
        "outputId": "87cc816f-1121-4dba-feb4-f5ad273e4093"
      },
      "source": [
        "df.index"
      ],
      "execution_count": null,
      "outputs": [
        {
          "output_type": "execute_result",
          "data": {
            "text/plain": [
              "RangeIndex(start=0, stop=5, step=1)"
            ]
          },
          "metadata": {
            "tags": []
          },
          "execution_count": 32
        }
      ]
    },
    {
      "cell_type": "code",
      "metadata": {
        "colab": {
          "base_uri": "https://localhost:8080/"
        },
        "id": "RZdpFqogeWlu",
        "outputId": "957d6108-e697-41fc-81ca-1554163403f0"
      },
      "source": [
        "df.size"
      ],
      "execution_count": null,
      "outputs": [
        {
          "output_type": "execute_result",
          "data": {
            "text/plain": [
              "35"
            ]
          },
          "metadata": {
            "tags": []
          },
          "execution_count": 33
        }
      ]
    },
    {
      "cell_type": "code",
      "metadata": {
        "colab": {
          "base_uri": "https://localhost:8080/"
        },
        "id": "0Z5JIURPeWuN",
        "outputId": "67d400bf-541b-4f1b-ee59-613f3e8159b1"
      },
      "source": [
        "df.columns"
      ],
      "execution_count": null,
      "outputs": [
        {
          "output_type": "execute_result",
          "data": {
            "text/plain": [
              "Index(['Unnamed: 0', 'prod_name', 'original', 'percent', 'discount',\n",
              "       'prod_rating', 'reviews_rating'],\n",
              "      dtype='object')"
            ]
          },
          "metadata": {
            "tags": []
          },
          "execution_count": 34
        }
      ]
    },
    {
      "cell_type": "code",
      "metadata": {
        "colab": {
          "base_uri": "https://localhost:8080/"
        },
        "id": "SxocnsfpeW1d",
        "outputId": "1a62ee52-cf2b-49f5-dc37-32993961a916"
      },
      "source": [
        "df.info()"
      ],
      "execution_count": null,
      "outputs": [
        {
          "output_type": "stream",
          "text": [
            "<class 'pandas.core.frame.DataFrame'>\n",
            "RangeIndex: 5 entries, 0 to 4\n",
            "Data columns (total 7 columns):\n",
            " #   Column          Non-Null Count  Dtype  \n",
            "---  ------          --------------  -----  \n",
            " 0   Unnamed: 0      5 non-null      int64  \n",
            " 1   prod_name       5 non-null      object \n",
            " 2   original        5 non-null      object \n",
            " 3   percent         5 non-null      object \n",
            " 4   discount        5 non-null      object \n",
            " 5   prod_rating     5 non-null      float64\n",
            " 6   reviews_rating  5 non-null      object \n",
            "dtypes: float64(1), int64(1), object(5)\n",
            "memory usage: 408.0+ bytes\n"
          ],
          "name": "stdout"
        }
      ]
    },
    {
      "cell_type": "code",
      "metadata": {
        "colab": {
          "base_uri": "https://localhost:8080/",
          "height": 459
        },
        "id": "2A2CgVmBeW6T",
        "outputId": "056bed79-11a8-4681-f7b4-cc5abd76f2a1"
      },
      "source": [
        "df.head(10)"
      ],
      "execution_count": null,
      "outputs": [
        {
          "output_type": "execute_result",
          "data": {
            "text/html": [
              "<div>\n",
              "<style scoped>\n",
              "    .dataframe tbody tr th:only-of-type {\n",
              "        vertical-align: middle;\n",
              "    }\n",
              "\n",
              "    .dataframe tbody tr th {\n",
              "        vertical-align: top;\n",
              "    }\n",
              "\n",
              "    .dataframe thead th {\n",
              "        text-align: right;\n",
              "    }\n",
              "</style>\n",
              "<table border=\"1\" class=\"dataframe\">\n",
              "  <thead>\n",
              "    <tr style=\"text-align: right;\">\n",
              "      <th></th>\n",
              "      <th>Unnamed: 0</th>\n",
              "      <th>prod_name</th>\n",
              "      <th>original</th>\n",
              "      <th>percent</th>\n",
              "      <th>discount</th>\n",
              "      <th>prod_rating</th>\n",
              "      <th>reviews_rating</th>\n",
              "    </tr>\n",
              "  </thead>\n",
              "  <tbody>\n",
              "    <tr>\n",
              "      <th>0</th>\n",
              "      <td>0</td>\n",
              "      <td>Lenovo IdeaPad Gaming 3i Core i7 10th Gen - (8...</td>\n",
              "      <td>₹1,15,390</td>\n",
              "      <td>32% off</td>\n",
              "      <td>₹77,990</td>\n",
              "      <td>4.3</td>\n",
              "      <td>635 Ratings &amp; 107 Reviews</td>\n",
              "    </tr>\n",
              "    <tr>\n",
              "      <th>1</th>\n",
              "      <td>1</td>\n",
              "      <td>ASUS ZenBook Duo Core i5 10th Gen - (8 GB/512 ...</td>\n",
              "      <td>₹1,08,990</td>\n",
              "      <td>26% off</td>\n",
              "      <td>₹79,890</td>\n",
              "      <td>4.2</td>\n",
              "      <td>44 Ratings &amp; 6 Reviews</td>\n",
              "    </tr>\n",
              "    <tr>\n",
              "      <th>2</th>\n",
              "      <td>2</td>\n",
              "      <td>MICROSOFT Surface Pro 7 Core i5 10th Gen - (8 ...</td>\n",
              "      <td>₹93,999</td>\n",
              "      <td>15% off</td>\n",
              "      <td>₹78,990</td>\n",
              "      <td>4.3</td>\n",
              "      <td>61 Ratings &amp; 5 Reviews</td>\n",
              "    </tr>\n",
              "    <tr>\n",
              "      <th>3</th>\n",
              "      <td>3</td>\n",
              "      <td>HP Envy x360 Ryzen 5 Hexa Core 4500U - (8 GB/2...</td>\n",
              "      <td>₹85,736</td>\n",
              "      <td>24% off</td>\n",
              "      <td>₹64,990</td>\n",
              "      <td>4.5</td>\n",
              "      <td>181 Ratings &amp; 32 Reviews</td>\n",
              "    </tr>\n",
              "    <tr>\n",
              "      <th>4</th>\n",
              "      <td>4</td>\n",
              "      <td>DELL G3 Core i7 10th Gen - (8 GB/512 GB SSD/Wi...</td>\n",
              "      <td>₹93,971</td>\n",
              "      <td>17% off</td>\n",
              "      <td>₹77,990</td>\n",
              "      <td>4.4</td>\n",
              "      <td>62 Ratings &amp; 8 Reviews</td>\n",
              "    </tr>\n",
              "  </tbody>\n",
              "</table>\n",
              "</div>"
            ],
            "text/plain": [
              "   Unnamed: 0  ...             reviews_rating\n",
              "0           0  ...  635 Ratings & 107 Reviews\n",
              "1           1  ...     44 Ratings & 6 Reviews\n",
              "2           2  ...     61 Ratings & 5 Reviews\n",
              "3           3  ...   181 Ratings & 32 Reviews\n",
              "4           4  ...     62 Ratings & 8 Reviews\n",
              "\n",
              "[5 rows x 7 columns]"
            ]
          },
          "metadata": {
            "tags": []
          },
          "execution_count": 36
        }
      ]
    },
    {
      "cell_type": "code",
      "metadata": {
        "colab": {
          "base_uri": "https://localhost:8080/"
        },
        "id": "TMHVEizjeXAv",
        "outputId": "875588c2-1b9f-4c43-c7a2-10426dd43099"
      },
      "source": [
        "df['prod_name'].unique().shape"
      ],
      "execution_count": null,
      "outputs": [
        {
          "output_type": "execute_result",
          "data": {
            "text/plain": [
              "(5,)"
            ]
          },
          "metadata": {
            "tags": []
          },
          "execution_count": 37
        }
      ]
    },
    {
      "cell_type": "code",
      "metadata": {
        "colab": {
          "base_uri": "https://localhost:8080/"
        },
        "id": "EsC5RJPteXHO",
        "outputId": "30dbd89a-be0e-41b0-8414-9e248e2ce50d"
      },
      "source": [
        "df['prod_name'].unique()"
      ],
      "execution_count": null,
      "outputs": [
        {
          "output_type": "execute_result",
          "data": {
            "text/plain": [
              "array(['Lenovo IdeaPad Gaming 3i Core i7 10th Gen - (8 GB/1 TB HDD/256 GB SSD/Windows 10 Home/4 GB Graphics/NV...',\n",
              "       'ASUS ZenBook Duo Core i5 10th Gen - (8 GB/512 GB SSD/Windows 10 Home/2 GB Graphics) UX481FL-BM5811T Th...',\n",
              "       'MICROSOFT Surface Pro 7 Core i5 10th Gen - (8 GB/128 GB SSD/Windows 10 Home) 1866 2 in 1 Laptop',\n",
              "       'HP Envy x360 Ryzen 5 Hexa Core 4500U - (8 GB/256 GB SSD/Windows 10 Home) 13-ay0044AU 2 in 1 Laptop',\n",
              "       'DELL G3 Core i7 10th Gen - (8 GB/512 GB SSD/Windows 10 Home/4 GB Graphics/NVIDIA GeForce GTX 1650/120 ...'],\n",
              "      dtype=object)"
            ]
          },
          "metadata": {
            "tags": []
          },
          "execution_count": 38
        }
      ]
    },
    {
      "cell_type": "code",
      "metadata": {
        "colab": {
          "base_uri": "https://localhost:8080/"
        },
        "id": "Sre0FKCOe_EL",
        "outputId": "48e47cb2-431a-4560-dbbc-2ff0091a69b5"
      },
      "source": [
        "df['original'].unique().shape"
      ],
      "execution_count": null,
      "outputs": [
        {
          "output_type": "execute_result",
          "data": {
            "text/plain": [
              "(5,)"
            ]
          },
          "metadata": {
            "tags": []
          },
          "execution_count": 39
        }
      ]
    },
    {
      "cell_type": "code",
      "metadata": {
        "colab": {
          "base_uri": "https://localhost:8080/"
        },
        "id": "7ahkG1JFe_K_",
        "outputId": "cbeb0585-e4bd-49d7-9cd3-a4c8cb69aa07"
      },
      "source": [
        "df['original'].unique()"
      ],
      "execution_count": null,
      "outputs": [
        {
          "output_type": "execute_result",
          "data": {
            "text/plain": [
              "array(['₹1,15,390', '₹1,08,990', '₹93,999', '₹85,736', '₹93,971'],\n",
              "      dtype=object)"
            ]
          },
          "metadata": {
            "tags": []
          },
          "execution_count": 40
        }
      ]
    },
    {
      "cell_type": "code",
      "metadata": {
        "colab": {
          "base_uri": "https://localhost:8080/",
          "height": 204
        },
        "id": "r4wv57-ue_Sa",
        "outputId": "cccfc085-01e4-4036-c17d-d593d7bae189"
      },
      "source": [
        "df[['prod_name','original']]"
      ],
      "execution_count": null,
      "outputs": [
        {
          "output_type": "execute_result",
          "data": {
            "text/html": [
              "<div>\n",
              "<style scoped>\n",
              "    .dataframe tbody tr th:only-of-type {\n",
              "        vertical-align: middle;\n",
              "    }\n",
              "\n",
              "    .dataframe tbody tr th {\n",
              "        vertical-align: top;\n",
              "    }\n",
              "\n",
              "    .dataframe thead th {\n",
              "        text-align: right;\n",
              "    }\n",
              "</style>\n",
              "<table border=\"1\" class=\"dataframe\">\n",
              "  <thead>\n",
              "    <tr style=\"text-align: right;\">\n",
              "      <th></th>\n",
              "      <th>prod_name</th>\n",
              "      <th>original</th>\n",
              "    </tr>\n",
              "  </thead>\n",
              "  <tbody>\n",
              "    <tr>\n",
              "      <th>0</th>\n",
              "      <td>Lenovo IdeaPad Gaming 3i Core i7 10th Gen - (8...</td>\n",
              "      <td>₹1,15,390</td>\n",
              "    </tr>\n",
              "    <tr>\n",
              "      <th>1</th>\n",
              "      <td>ASUS ZenBook Duo Core i5 10th Gen - (8 GB/512 ...</td>\n",
              "      <td>₹1,08,990</td>\n",
              "    </tr>\n",
              "    <tr>\n",
              "      <th>2</th>\n",
              "      <td>MICROSOFT Surface Pro 7 Core i5 10th Gen - (8 ...</td>\n",
              "      <td>₹93,999</td>\n",
              "    </tr>\n",
              "    <tr>\n",
              "      <th>3</th>\n",
              "      <td>HP Envy x360 Ryzen 5 Hexa Core 4500U - (8 GB/2...</td>\n",
              "      <td>₹85,736</td>\n",
              "    </tr>\n",
              "    <tr>\n",
              "      <th>4</th>\n",
              "      <td>DELL G3 Core i7 10th Gen - (8 GB/512 GB SSD/Wi...</td>\n",
              "      <td>₹93,971</td>\n",
              "    </tr>\n",
              "  </tbody>\n",
              "</table>\n",
              "</div>"
            ],
            "text/plain": [
              "                                           prod_name   original\n",
              "0  Lenovo IdeaPad Gaming 3i Core i7 10th Gen - (8...  ₹1,15,390\n",
              "1  ASUS ZenBook Duo Core i5 10th Gen - (8 GB/512 ...  ₹1,08,990\n",
              "2  MICROSOFT Surface Pro 7 Core i5 10th Gen - (8 ...    ₹93,999\n",
              "3  HP Envy x360 Ryzen 5 Hexa Core 4500U - (8 GB/2...    ₹85,736\n",
              "4  DELL G3 Core i7 10th Gen - (8 GB/512 GB SSD/Wi...    ₹93,971"
            ]
          },
          "metadata": {
            "tags": []
          },
          "execution_count": 41
        }
      ]
    },
    {
      "cell_type": "code",
      "metadata": {
        "colab": {
          "base_uri": "https://localhost:8080/"
        },
        "id": "56P15hylfq5h",
        "outputId": "e58e5c3a-e383-408c-8f4b-acdbd8bc57b0"
      },
      "source": [
        "df.loc[0]"
      ],
      "execution_count": null,
      "outputs": [
        {
          "output_type": "execute_result",
          "data": {
            "text/plain": [
              "Unnamed: 0                                                        0\n",
              "prod_name         Lenovo IdeaPad Gaming 3i Core i7 10th Gen - (8...\n",
              "original                                                  ₹1,15,390\n",
              "percent                                                     32% off\n",
              "discount                                                    ₹77,990\n",
              "prod_rating                                                     4.3\n",
              "reviews_rating                            635 Ratings & 107 Reviews\n",
              "Name: 0, dtype: object"
            ]
          },
          "metadata": {
            "tags": []
          },
          "execution_count": 42
        }
      ]
    },
    {
      "cell_type": "code",
      "metadata": {
        "colab": {
          "base_uri": "https://localhost:8080/",
          "height": 162
        },
        "id": "IO_jKC7dfrCq",
        "outputId": "14370ed5-d56c-4f02-cb31-db2a23b0fa00"
      },
      "source": [
        "df.iloc[[0,2]]"
      ],
      "execution_count": null,
      "outputs": [
        {
          "output_type": "execute_result",
          "data": {
            "text/html": [
              "<div>\n",
              "<style scoped>\n",
              "    .dataframe tbody tr th:only-of-type {\n",
              "        vertical-align: middle;\n",
              "    }\n",
              "\n",
              "    .dataframe tbody tr th {\n",
              "        vertical-align: top;\n",
              "    }\n",
              "\n",
              "    .dataframe thead th {\n",
              "        text-align: right;\n",
              "    }\n",
              "</style>\n",
              "<table border=\"1\" class=\"dataframe\">\n",
              "  <thead>\n",
              "    <tr style=\"text-align: right;\">\n",
              "      <th></th>\n",
              "      <th>Unnamed: 0</th>\n",
              "      <th>prod_name</th>\n",
              "      <th>original</th>\n",
              "      <th>percent</th>\n",
              "      <th>discount</th>\n",
              "      <th>prod_rating</th>\n",
              "      <th>reviews_rating</th>\n",
              "    </tr>\n",
              "  </thead>\n",
              "  <tbody>\n",
              "    <tr>\n",
              "      <th>0</th>\n",
              "      <td>0</td>\n",
              "      <td>Lenovo IdeaPad Gaming 3i Core i7 10th Gen - (8...</td>\n",
              "      <td>₹1,15,390</td>\n",
              "      <td>32% off</td>\n",
              "      <td>₹77,990</td>\n",
              "      <td>4.3</td>\n",
              "      <td>635 Ratings &amp; 107 Reviews</td>\n",
              "    </tr>\n",
              "    <tr>\n",
              "      <th>2</th>\n",
              "      <td>2</td>\n",
              "      <td>MICROSOFT Surface Pro 7 Core i5 10th Gen - (8 ...</td>\n",
              "      <td>₹93,999</td>\n",
              "      <td>15% off</td>\n",
              "      <td>₹78,990</td>\n",
              "      <td>4.3</td>\n",
              "      <td>61 Ratings &amp; 5 Reviews</td>\n",
              "    </tr>\n",
              "  </tbody>\n",
              "</table>\n",
              "</div>"
            ],
            "text/plain": [
              "   Unnamed: 0  ...             reviews_rating\n",
              "0           0  ...  635 Ratings & 107 Reviews\n",
              "2           2  ...     61 Ratings & 5 Reviews\n",
              "\n",
              "[2 rows x 7 columns]"
            ]
          },
          "metadata": {
            "tags": []
          },
          "execution_count": 43
        }
      ]
    },
    {
      "cell_type": "code",
      "metadata": {
        "colab": {
          "base_uri": "https://localhost:8080/",
          "height": 306
        },
        "id": "LlmeCFkZgAoK",
        "outputId": "e2bdc117-fb91-4201-9908-bd58b2fba67c"
      },
      "source": [
        "df=pd.read_csv('product.csv')\n",
        "df"
      ],
      "execution_count": null,
      "outputs": [
        {
          "output_type": "execute_result",
          "data": {
            "text/html": [
              "<div>\n",
              "<style scoped>\n",
              "    .dataframe tbody tr th:only-of-type {\n",
              "        vertical-align: middle;\n",
              "    }\n",
              "\n",
              "    .dataframe tbody tr th {\n",
              "        vertical-align: top;\n",
              "    }\n",
              "\n",
              "    .dataframe thead th {\n",
              "        text-align: right;\n",
              "    }\n",
              "</style>\n",
              "<table border=\"1\" class=\"dataframe\">\n",
              "  <thead>\n",
              "    <tr style=\"text-align: right;\">\n",
              "      <th></th>\n",
              "      <th>Unnamed: 0</th>\n",
              "      <th>prod_name</th>\n",
              "      <th>original</th>\n",
              "      <th>percent</th>\n",
              "      <th>discount</th>\n",
              "      <th>prod_rating</th>\n",
              "      <th>reviews_rating</th>\n",
              "    </tr>\n",
              "  </thead>\n",
              "  <tbody>\n",
              "    <tr>\n",
              "      <th>0</th>\n",
              "      <td>0</td>\n",
              "      <td>Lenovo IdeaPad Gaming 3i Core i7 10th Gen - (8...</td>\n",
              "      <td>₹1,15,390</td>\n",
              "      <td>32% off</td>\n",
              "      <td>₹77,990</td>\n",
              "      <td>4.3</td>\n",
              "      <td>635 Ratings &amp; 107 Reviews</td>\n",
              "    </tr>\n",
              "    <tr>\n",
              "      <th>1</th>\n",
              "      <td>1</td>\n",
              "      <td>ASUS ZenBook Duo Core i5 10th Gen - (8 GB/512 ...</td>\n",
              "      <td>₹1,08,990</td>\n",
              "      <td>26% off</td>\n",
              "      <td>₹79,890</td>\n",
              "      <td>4.2</td>\n",
              "      <td>44 Ratings &amp; 6 Reviews</td>\n",
              "    </tr>\n",
              "    <tr>\n",
              "      <th>2</th>\n",
              "      <td>2</td>\n",
              "      <td>MICROSOFT Surface Pro 7 Core i5 10th Gen - (8 ...</td>\n",
              "      <td>₹93,999</td>\n",
              "      <td>15% off</td>\n",
              "      <td>₹78,990</td>\n",
              "      <td>4.3</td>\n",
              "      <td>61 Ratings &amp; 5 Reviews</td>\n",
              "    </tr>\n",
              "    <tr>\n",
              "      <th>3</th>\n",
              "      <td>3</td>\n",
              "      <td>HP Envy x360 Ryzen 5 Hexa Core 4500U - (8 GB/2...</td>\n",
              "      <td>₹85,736</td>\n",
              "      <td>24% off</td>\n",
              "      <td>₹64,990</td>\n",
              "      <td>4.5</td>\n",
              "      <td>181 Ratings &amp; 32 Reviews</td>\n",
              "    </tr>\n",
              "    <tr>\n",
              "      <th>4</th>\n",
              "      <td>4</td>\n",
              "      <td>DELL G3 Core i7 10th Gen - (8 GB/512 GB SSD/Wi...</td>\n",
              "      <td>₹93,971</td>\n",
              "      <td>17% off</td>\n",
              "      <td>₹77,990</td>\n",
              "      <td>4.4</td>\n",
              "      <td>62 Ratings &amp; 8 Reviews</td>\n",
              "    </tr>\n",
              "  </tbody>\n",
              "</table>\n",
              "</div>"
            ],
            "text/plain": [
              "   Unnamed: 0  ...             reviews_rating\n",
              "0           0  ...  635 Ratings & 107 Reviews\n",
              "1           1  ...     44 Ratings & 6 Reviews\n",
              "2           2  ...     61 Ratings & 5 Reviews\n",
              "3           3  ...   181 Ratings & 32 Reviews\n",
              "4           4  ...     62 Ratings & 8 Reviews\n",
              "\n",
              "[5 rows x 7 columns]"
            ]
          },
          "metadata": {
            "tags": []
          },
          "execution_count": 44
        }
      ]
    },
    {
      "cell_type": "code",
      "metadata": {
        "colab": {
          "base_uri": "https://localhost:8080/",
          "height": 111
        },
        "id": "7VwseDhAgA3t",
        "outputId": "149c803c-c9fa-48b8-d260-9546db314485"
      },
      "source": [
        "df.iloc[[0,2],[0,3]]"
      ],
      "execution_count": null,
      "outputs": [
        {
          "output_type": "execute_result",
          "data": {
            "text/html": [
              "<div>\n",
              "<style scoped>\n",
              "    .dataframe tbody tr th:only-of-type {\n",
              "        vertical-align: middle;\n",
              "    }\n",
              "\n",
              "    .dataframe tbody tr th {\n",
              "        vertical-align: top;\n",
              "    }\n",
              "\n",
              "    .dataframe thead th {\n",
              "        text-align: right;\n",
              "    }\n",
              "</style>\n",
              "<table border=\"1\" class=\"dataframe\">\n",
              "  <thead>\n",
              "    <tr style=\"text-align: right;\">\n",
              "      <th></th>\n",
              "      <th>Unnamed: 0</th>\n",
              "      <th>percent</th>\n",
              "    </tr>\n",
              "  </thead>\n",
              "  <tbody>\n",
              "    <tr>\n",
              "      <th>0</th>\n",
              "      <td>0</td>\n",
              "      <td>32% off</td>\n",
              "    </tr>\n",
              "    <tr>\n",
              "      <th>2</th>\n",
              "      <td>2</td>\n",
              "      <td>15% off</td>\n",
              "    </tr>\n",
              "  </tbody>\n",
              "</table>\n",
              "</div>"
            ],
            "text/plain": [
              "   Unnamed: 0  percent\n",
              "0           0  32% off\n",
              "2           2  15% off"
            ]
          },
          "metadata": {
            "tags": []
          },
          "execution_count": 45
        }
      ]
    },
    {
      "cell_type": "markdown",
      "metadata": {
        "id": "kXbNZirdtpTN"
      },
      "source": [
        "***Visualizing Basic Analysis of the Data using Plots***"
      ]
    },
    {
      "cell_type": "code",
      "metadata": {
        "id": "vRXLcujLsZAs"
      },
      "source": [
        "import numpy as np\n",
        "import seaborn as sns"
      ],
      "execution_count": null,
      "outputs": []
    },
    {
      "cell_type": "code",
      "metadata": {
        "id": "YKacpApfsfU6"
      },
      "source": [
        "import matplotlib.pyplot as plt\n",
        "%matplotlib inline"
      ],
      "execution_count": null,
      "outputs": []
    },
    {
      "cell_type": "markdown",
      "metadata": {
        "id": "fE6dXLBQvz4Z"
      },
      "source": [
        "***Bar Plot Original Price VS Discount Price***"
      ]
    },
    {
      "cell_type": "markdown",
      "metadata": {
        "id": "leJov7b1tHhL"
      },
      "source": [
        "***HOW MUCH PERCENT DISTOUNT GET ON ORIGINAL PRICE OF LAPTO***P"
      ]
    },
    {
      "cell_type": "code",
      "metadata": {
        "colab": {
          "base_uri": "https://localhost:8080/",
          "height": 265
        },
        "id": "_O9C1r_AJp-X",
        "outputId": "a7da079c-de79-4770-e082-6e6a17500028"
      },
      "source": [
        "plt.scatter(x=df['original'],y=df['percent'],color='red')\n",
        "plt.show()"
      ],
      "execution_count": null,
      "outputs": [
        {
          "output_type": "display_data",
          "data": {
            "image/png": "[encoded data removed]",
            "text/plain": [
              "<Figure size 432x288 with 1 Axes>"
            ]
          },
          "metadata": {
            "tags": [],
            "needs_background": "light"
          }
        }
      ]
    },
    {
      "cell_type": "markdown",
      "metadata": {
        "id": "iBYd8vBTtoOk"
      },
      "source": [
        "**SHOWING ORIGINAL PRICE OF LAPTOPS**"
      ]
    },
    {
      "cell_type": "code",
      "metadata": {
        "colab": {
          "base_uri": "https://localhost:8080/",
          "height": 285
        },
        "id": "4Hqisda2L93L",
        "outputId": "b823281b-ac58-4e07-8336-67b7867128ac"
      },
      "source": [
        "plt.scatter(x=df['original'],y=df['prod_name'])\n",
        "plt.show()"
      ],
      "execution_count": null,
      "outputs": [
        {
          "output_type": "display_data",
          "data": {
            "image/png": "[encoded data removed]",
            "text/plain": [
              "<Figure size 432x288 with 1 Axes>"
            ]
          },
          "metadata": {
            "tags": [],
            "needs_background": "light"
          }
        }
      ]
    },
    {
      "cell_type": "markdown",
      "metadata": {
        "id": "5IjYnX8Ft1cG"
      },
      "source": [
        "***SHOWING PRODUCT RATING AND ORIGINAL PRICE OF LAPTOPS***"
      ]
    },
    {
      "cell_type": "code",
      "metadata": {
        "colab": {
          "base_uri": "https://localhost:8080/",
          "height": 297
        },
        "id": "EkQPNaAbTKSX",
        "outputId": "e3c17a05-8e15-4a4a-bb14-bd7db196bcf5"
      },
      "source": [
        "sns.countplot(data=df,x='prod_rating',hue='original')\n",
        "plt.show"
      ],
      "execution_count": null,
      "outputs": [
        {
          "output_type": "execute_result",
          "data": {
            "text/plain": [
              "<function matplotlib.pyplot.show>"
            ]
          },
          "metadata": {
            "tags": []
          },
          "execution_count": 79
        },
        {
          "output_type": "display_data",
          "data": {
            "image/png": "[encoded data removed]",
            "text/plain": [
              "<Figure size 432x288 with 1 Axes>"
            ]
          },
          "metadata": {
            "tags": [],
            "needs_background": "light"
          }
        }
      ]
    },
    {
      "cell_type": "markdown",
      "metadata": {
        "id": "aM6e7FcYxbjv"
      },
      "source": [
        "***ORIGINAL PRICE AND DISCOUNT PRICE DISCRIPING ON GRAPH***"
      ]
    },
    {
      "cell_type": "code",
      "metadata": {
        "colab": {
          "base_uri": "https://localhost:8080/",
          "height": 333
        },
        "id": "zQXY_75dguX7",
        "outputId": "d428a9a8-5372-4061-d3d1-9f2466b683eb"
      },
      "source": [
        "sns.countplot(\"original\", hue = \"discount\",data=container_list, palette = \"Greens_d\")\n",
        "plt.show()"
      ],
      "execution_count": null,
      "outputs": [
        {
          "output_type": "stream",
          "text": [
            "/usr/local/lib/python3.7/dist-packages/seaborn/_decorators.py:43: FutureWarning: Pass the following variable as a keyword arg: x. From version 0.12, the only valid positional argument will be `data`, and passing other arguments without an explicit keyword will result in an error or misinterpretation.\n",
            "  FutureWarning\n"
          ],
          "name": "stderr"
        },
        {
          "output_type": "display_data",
          "data": {
            "image/png": "[encoded data removed]",
            "text/plain": [
              "<Figure size 432x288 with 1 Axes>"
            ]
          },
          "metadata": {
            "tags": [],
            "needs_background": "light"
          }
        }
      ]
    },
    {
      "cell_type": "code",
      "metadata": {
        "colab": {
          "base_uri": "https://localhost:8080/",
          "height": 333
        },
        "id": "J6JmjB6EmuYf",
        "outputId": "fc4e98f9-03ca-4709-a358-91ddbc864d38"
      },
      "source": [
        "sns.countplot(\"original\", hue = \"discount\", data = container_list)\n",
        "plt.show()\n"
      ],
      "execution_count": null,
      "outputs": [
        {
          "output_type": "stream",
          "text": [
            "/usr/local/lib/python3.7/dist-packages/seaborn/_decorators.py:43: FutureWarning: Pass the following variable as a keyword arg: x. From version 0.12, the only valid positional argument will be `data`, and passing other arguments without an explicit keyword will result in an error or misinterpretation.\n",
            "  FutureWarning\n"
          ],
          "name": "stderr"
        },
        {
          "output_type": "display_data",
          "data": {
            "image/png": "[encoded data removed]",
            "text/plain": [
              "<Figure size 432x288 with 1 Axes>"
            ]
          },
          "metadata": {
            "tags": [],
            "needs_background": "light"
          }
        }
      ]
    }
  ]
}